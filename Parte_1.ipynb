{
  "nbformat": 4,
  "nbformat_minor": 0,
  "metadata": {
    "colab": {
      "provenance": [],
      "authorship_tag": "ABX9TyPQuOzMxe0RLWLJES5slXwE",
      "include_colab_link": true
    },
    "kernelspec": {
      "name": "python3",
      "display_name": "Python 3"
    },
    "language_info": {
      "name": "python"
    }
  },
  "cells": [
    {
      "cell_type": "markdown",
      "metadata": {
        "id": "view-in-github",
        "colab_type": "text"
      },
      "source": [
        "<a href=\"https://colab.research.google.com/github/pitarac/Ciencia_de_dados/blob/main/Parte_1.ipynb\" target=\"_parent\"><img src=\"https://colab.research.google.com/assets/colab-badge.svg\" alt=\"Open In Colab\"/></a>"
      ]
    },
    {
      "cell_type": "code",
      "execution_count": null,
      "metadata": {
        "id": "I3-C0neADYwJ"
      },
      "outputs": [],
      "source": []
    }
  ]
}

# Classificação de Doença Cardíaca Usando Machine Learning e Deep Learning

## Identificação

**Nome do aluno:** Paulo Henrique Lima da Silva  
**Disciplina:** Sprint II Machine Learning & Analytics (40530010056_20230_01)  
**Curso:** Ciência de Dados e Analytics  
**Instituição:** PUC-Rio

## Descrição

Este notebook apresenta um projeto de classificação de doença cardíaca utilizando métodos de Machine Learning clássicos e Deep Learning. O objetivo é prever a presença de doença cardíaca em pacientes com base em várias características de saúde.

## Dataset

O conjunto de dados usado neste projeto consiste em informações de saúde de pacientes, como idade, sexo, tipo de dor no peito, pressão arterial em repouso, nível de colesterol, entre outros. O objetivo é prever a coluna `output`, que indica a presença (valor 1) ou ausência (valor 0) de doença cardíaca.

## Metodologia

Primeiramente, realizamos a preparação dos dados, incluindo a divisão do conjunto de dados em treinamento e teste, e a normalização dos dados. Depois, treinamos e avaliamos vários modelos de aprendizado de máquina clássicos, incluindo Regressão Logística, Árvore de Decisão, Random Forest, Máquinas de Vetores de Suporte (SVM) e K-Nearest Neighbors (KNN). 

Em seguida, treinamos um modelo de Deep Learning usando uma rede neural profunda. A rede foi construída usando a biblioteca Keras, com duas camadas ocultas e uma camada de saída com função de ativação sigmoide, adequada para a classificação binária.

## Resultados

Os resultados incluem a acurácia de cada modelo tanto no conjunto de treinamento quanto no conjunto de teste. A acurácia também é calculada usando validação cruzada para uma estimativa mais robusta do desempenho do modelo.
